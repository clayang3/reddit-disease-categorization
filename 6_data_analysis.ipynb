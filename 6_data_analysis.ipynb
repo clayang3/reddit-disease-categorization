{
 "cells": [
  {
   "cell_type": "markdown",
   "metadata": {},
   "source": [
    "# 6_data_analysis.ipynb\n",
    "\n",
    "Analyzes the tagging performance."
   ]
  },
  {
   "cell_type": "code",
   "execution_count": 119,
   "metadata": {},
   "outputs": [],
   "source": [
    "import pandas as pd\n",
    "import matplotlib.pyplot as plt\n",
    "import os\n",
    "import csv\n",
    "from pprint import pprint\n",
    "from sklearn.metrics import precision_score, recall_score, f1_score\n",
    "from pprint import pprint"
   ]
  },
  {
   "cell_type": "markdown",
   "metadata": {},
   "source": [
    "# Create test set based on labels"
   ]
  },
  {
   "cell_type": "code",
   "execution_count": 120,
   "metadata": {},
   "outputs": [
    {
     "name": "stdout",
     "output_type": "stream",
     "text": [
      "(1000, 17)\n"
     ]
    }
   ],
   "source": [
    "result_folder = 'data_result'\n",
    "os.makedirs(result_folder, exist_ok=True)\n",
    "\n",
    "input_file = result_folder + '/' + 'Result.xlsx'\n",
    "extended_file = result_folder + '/' + 'Result_extended.xlsx'\n",
    "\n",
    "df = pd.read_excel(input_file)\n",
    "print(df.shape)"
   ]
  },
  {
   "cell_type": "code",
   "execution_count": 121,
   "metadata": {},
   "outputs": [],
   "source": [
    "subreddit_list = ['cancer', 'COVID19positive', 'diabetes', 'eczema', 'eyetriage', 'GERD', 'STD']\n",
    "\n",
    "def get_label_int(label_str, subreddit):\n",
    "    if label_str == 'CANCER' and subreddit == 'cancer' or \\\n",
    "        label_str == 'COVID' and subreddit == 'COVID19positive' or \\\n",
    "        label_str == 'DIABETES' and subreddit == 'diabetes' or \\\n",
    "        label_str == 'ECZEMA' and subreddit == 'eczema' or \\\n",
    "        label_str == 'EYE' and subreddit == 'eyetriage' or \\\n",
    "        label_str == 'GERD' and subreddit == 'GERD' or \\\n",
    "        label_str == 'STD' and subreddit == 'STD':\n",
    "        return int(1)\n",
    "    else:\n",
    "        return int(0)\n",
    "    \n",
    "for subreddit in subreddit_list:\n",
    "    df[subreddit + '_label'] = df.apply(lambda row: get_label_int(row['LABEL'], subreddit), axis=1)"
   ]
  },
  {
   "cell_type": "code",
   "execution_count": 122,
   "metadata": {},
   "outputs": [],
   "source": [
    "# df.to_excel(extended_file, index=None, header=True)\n",
    "# !open '/Applications/Microsoft Excel.app' $extended_file"
   ]
  },
  {
   "cell_type": "code",
   "execution_count": 123,
   "metadata": {},
   "outputs": [
    {
     "name": "stdout",
     "output_type": "stream",
     "text": [
      "(1000, 24)\n"
     ]
    }
   ],
   "source": [
    "print(df.shape)"
   ]
  },
  {
   "cell_type": "markdown",
   "metadata": {},
   "source": [
    "# Extract inference results"
   ]
  },
  {
   "cell_type": "code",
   "execution_count": 124,
   "metadata": {},
   "outputs": [
    {
     "name": "stdout",
     "output_type": "stream",
     "text": [
      "(1000, 7)\n",
      "array([[6.21587040e-04, 3.25265200e-01, 5.32597300e-04, ...,\n",
      "        4.81468440e-03, 2.18958680e-01, 1.04136765e-02],\n",
      "       [2.26809380e-02, 2.44800150e-02, 1.24443140e-01, ...,\n",
      "        3.87337500e-02, 8.51780200e-04, 1.86413530e-04],\n",
      "       [3.68714330e-04, 9.85343930e-01, 9.73552470e-04, ...,\n",
      "        7.34090800e-04, 4.85836270e-02, 5.93811300e-04],\n",
      "       ...,\n",
      "       [6.63929300e-01, 3.70893180e-02, 7.46101140e-04, ...,\n",
      "        3.29810380e-03, 1.80878340e-02, 9.45812500e-03],\n",
      "       [4.50914960e-05, 1.93762780e-03, 9.95240330e-01, ...,\n",
      "        1.78307300e-04, 2.55670200e-05, 5.07488400e-06],\n",
      "       [5.39876600e-06, 4.48846800e-03, 9.98531000e-01, ...,\n",
      "        1.58268380e-05, 5.81170000e-06, 5.93990600e-06]])\n"
     ]
    }
   ],
   "source": [
    "y_pred = df.iloc[:, 8:15].values\n",
    "print(y_pred.shape)\n",
    "pprint(y_pred)"
   ]
  },
  {
   "cell_type": "markdown",
   "metadata": {},
   "source": [
    "# Extract test set"
   ]
  },
  {
   "cell_type": "code",
   "execution_count": 125,
   "metadata": {},
   "outputs": [
    {
     "name": "stdout",
     "output_type": "stream",
     "text": [
      "(1000, 7)\n",
      "array([[0, 0, 0, ..., 0, 0, 0],\n",
      "       [0, 0, 0, ..., 0, 0, 0],\n",
      "       [0, 1, 0, ..., 0, 0, 0],\n",
      "       ...,\n",
      "       [0, 0, 0, ..., 0, 0, 0],\n",
      "       [0, 0, 1, ..., 0, 0, 0],\n",
      "       [0, 0, 0, ..., 0, 0, 0]])\n"
     ]
    }
   ],
   "source": [
    "y_test = df.iloc[:, 17:25].values\n",
    "print(y_test.shape)\n",
    "pprint(y_test)"
   ]
  },
  {
   "cell_type": "code",
   "execution_count": 126,
   "metadata": {},
   "outputs": [
    {
     "name": "stdout",
     "output_type": "stream",
     "text": [
      "Threshold: 0.1000, Precision: 0.3312, Recall: 0.9903, F1-measure: 0.4964\n",
      "Threshold: 0.2000, Precision: 0.4449, Recall: 0.9855, F1-measure: 0.6131\n",
      "Threshold: 0.2500, Precision: 0.4915, Recall: 0.9758, F1-measure: 0.6537\n",
      "Threshold: 0.3000, Precision: 0.5268, Recall: 0.9734, F1-measure: 0.6836\n",
      "Threshold: 0.4000, Precision: 0.5925, Recall: 0.9517, F1-measure: 0.7303\n",
      "Threshold: 0.5000, Precision: 0.6586, Recall: 0.9227, F1-measure: 0.7686\n",
      "Threshold: 0.6000, Precision: 0.7065, Recall: 0.8720, F1-measure: 0.7805\n",
      "Threshold: 0.7000, Precision: 0.7523, Recall: 0.7778, F1-measure: 0.7648\n",
      "Threshold: 0.8000, Precision: 0.7861, Recall: 0.6836, F1-measure: 0.7313\n",
      "Threshold: 0.9000, Precision: 0.8387, Recall: 0.5652, F1-measure: 0.6753\n"
     ]
    }
   ],
   "source": [
    "thresholds=[0.1,0.2,0.25,0.3,0.4,0.5,0.6,0.7,0.8,0.9]\n",
    "for val in thresholds:\n",
    "    pred=y_pred.copy()\n",
    "  \n",
    "    pred[pred>=val]=1\n",
    "    pred[pred<val]=0\n",
    "  \n",
    "    precision = precision_score(y_test, pred, average='micro')\n",
    "    recall = recall_score(y_test, pred, average='micro')\n",
    "    f1 = f1_score(y_test, pred, average='micro')\n",
    "   \n",
    "    print(\"Threshold: {:.4f}, Precision: {:.4f}, Recall: {:.4f}, F1-measure: {:.4f}\".format(val, precision, recall, f1))"
   ]
  },
  {
   "cell_type": "code",
   "execution_count": 127,
   "metadata": {},
   "outputs": [
    {
     "name": "stdout",
     "output_type": "stream",
     "text": [
      "Disease: CANCER, Precision: 0.7375, Recall: 0.7973, F1-measure: 0.7662\n",
      "Disease: COVID, Precision: 0.5769, Recall: 0.8491, F1-measure: 0.6870\n",
      "Disease: DIABETES, Precision: 0.5278, Recall: 0.9500, F1-measure: 0.6786\n",
      "Disease: ECZEMA, Precision: 0.8605, Recall: 0.9250, F1-measure: 0.8916\n",
      "Disease: EYE, Precision: 0.8000, Recall: 0.8000, F1-measure: 0.8000\n",
      "Disease: GERD, Precision: 0.6230, Recall: 0.9048, F1-measure: 0.7379\n",
      "Disease: STD, Precision: 0.8961, Recall: 0.8961, F1-measure: 0.8961\n"
     ]
    }
   ],
   "source": [
    "column_names = list(df.columns[8:15])\n",
    "f1_scores = []\n",
    "threshold = 0.6\n",
    "for i in range(0, 7):\n",
    "    disease_prediction = y_pred[:,i]\n",
    "    disease_prediction[disease_prediction>=threshold]=1\n",
    "    disease_prediction[disease_prediction<threshold]=0\n",
    "    disease_test = y_test[:,i]\n",
    "    precision = precision_score(disease_test, disease_prediction)\n",
    "    recall = recall_score(disease_test, disease_prediction)\n",
    "    f1 = f1_score(disease_test, disease_prediction)\n",
    "    f1_scores.append(f1)\n",
    "    print(\"Disease: {}, Precision: {:.4f}, Recall: {:.4f}, F1-measure: {:.4f}\".format(column_names[i], precision, recall, f1))"
   ]
  },
  {
   "cell_type": "code",
   "execution_count": 128,
   "metadata": {},
   "outputs": [
    {
     "data": {
      "image/png": "[encoded data removed]",
      "text/plain": [
       "<Figure size 432x288 with 1 Axes>"
      ]
     },
     "metadata": {
      "needs_background": "light"
     },
     "output_type": "display_data"
    }
   ],
   "source": [
    "fig = plt.figure()\n",
    "plt.bar(column_names, f1_scores)\n",
    "plt.xticks(rotation=90)\n",
    "plt.show()"
   ]
  },
  {
   "cell_type": "code",
   "execution_count": null,
   "metadata": {},
   "outputs": [],
   "source": []
  }
 ],
 "metadata": {
  "kernelspec": {
   "display_name": "Python 3",
   "language": "python",
   "name": "python3"
  },
  "language_info": {
   "codemirror_mode": {
    "name": "ipython",
    "version": 3
   },
   "file_extension": ".py",
   "mimetype": "text/x-python",
   "name": "python",
   "nbconvert_exporter": "python",
   "pygments_lexer": "ipython3",
   "version": "3.6.8"
  }
 },
 "nbformat": 4,
 "nbformat_minor": 2
}
