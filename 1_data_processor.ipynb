{
 "cells": [
  {
   "cell_type": "markdown",
   "metadata": {},
   "source": [
    "# 1_data_processor.ipynb\n",
    "\n",
    "Processes data from each subreddit and combines them."
   ]
  },
  {
   "cell_type": "code",
   "execution_count": 1,
   "metadata": {},
   "outputs": [],
   "source": [
    "import pandas as pd\n",
    "import os\n",
    "import csv\n",
    "from pprint import pprint"
   ]
  },
  {
   "cell_type": "code",
   "execution_count": 2,
   "metadata": {},
   "outputs": [],
   "source": [
    "input_folder = 'data_collection'\n",
    "output_folder = 'data_combination'\n",
    "os.makedirs(output_folder, exist_ok=True)\n",
    "\n",
    "subreddit_list = ['cancer', 'COVID19positive', 'diabetes', 'eczema', 'eyetriage', 'GERD', 'STD']"
   ]
  },
  {
   "cell_type": "markdown",
   "metadata": {},
   "source": [
    "# Add subreddit labels"
   ]
  },
  {
   "cell_type": "code",
   "execution_count": 10,
   "metadata": {},
   "outputs": [],
   "source": [
    "data_cancer = pd.read_csv(input_folder + '/' + 'cancer.csv')\n",
    "data_cancer['Subreddit'] = data_cancer.apply(lambda row: 'cancer', axis=1)\n",
    "for subreddit in subreddit_list:\n",
    "    if subreddit == 'cancer':\n",
    "        data_cancer[subreddit] = data_cancer.apply(lambda row: int(1), axis=1)\n",
    "    else:\n",
    "        data_cancer[subreddit] = data_cancer.apply(lambda row: int(0), axis=1)\n",
    "data_cancer.to_csv(output_folder + '/' + 'cancer.csv', sep=',', encoding='utf-8', header=True)\n",
    "\n",
    "data_COVID19positive = pd.read_csv(input_folder + '/' + 'COVID19positive.csv')\n",
    "data_COVID19positive['Subreddit'] = data_COVID19positive.apply(lambda row: 'COVID19positive', axis=1)\n",
    "for subreddit in subreddit_list:\n",
    "    if subreddit == 'COVID19positive':\n",
    "        data_COVID19positive[subreddit] = data_COVID19positive.apply(lambda row: int(1), axis=1)\n",
    "    else:\n",
    "        data_COVID19positive[subreddit] = data_COVID19positive.apply(lambda row: int(0), axis=1)\n",
    "data_COVID19positive.to_csv(output_folder + '/' + 'COVID19positive.csv', sep=',', encoding='utf-8', header=True)\n",
    "\n",
    "data_diabetes = pd.read_csv(input_folder + '/' + 'diabetes.csv')\n",
    "data_diabetes['Subreddit'] = data_diabetes.apply(lambda row: 'diabetes', axis=1)\n",
    "for subreddit in subreddit_list:\n",
    "    if subreddit == 'diabetes':\n",
    "        data_diabetes[subreddit] = data_diabetes.apply(lambda row: int(1), axis=1)\n",
    "    else:\n",
    "        data_diabetes[subreddit] = data_diabetes.apply(lambda row: int(0), axis=1)\n",
    "data_diabetes.to_csv(output_folder + '/' + 'diabetes.csv', sep=',', encoding='utf-8', header=True)\n",
    "\n",
    "data_eczema = pd.read_csv(input_folder + '/' + 'eczema.csv')\n",
    "data_eczema['Subreddit'] = data_eczema.apply(lambda row: 'eczema', axis=1)\n",
    "for subreddit in subreddit_list:\n",
    "    if subreddit == 'eczema':\n",
    "        data_eczema[subreddit] = data_eczema.apply(lambda row: int(1), axis=1)\n",
    "    else:\n",
    "        data_eczema[subreddit] = data_eczema.apply(lambda row: int(0), axis=1)\n",
    "data_eczema.to_csv(output_folder + '/' + 'eczema.csv', sep=',', encoding='utf-8', header=True)\n",
    "\n",
    "data_eyetriage = pd.read_csv(input_folder + '/' + 'eyetriage.csv')\n",
    "data_eyetriage['Subreddit'] = data_eyetriage.apply(lambda row: 'eyetriage', axis=1)\n",
    "for subreddit in subreddit_list:\n",
    "    if subreddit == 'eyetriage':\n",
    "        data_eyetriage[subreddit] = data_eyetriage.apply(lambda row: int(1), axis=1)\n",
    "    else:\n",
    "        data_eyetriage[subreddit] = data_eyetriage.apply(lambda row: int(0), axis=1)\n",
    "data_eyetriage.to_csv(output_folder + '/' + 'eyetriage.csv', sep=',', encoding='utf-8', header=True)\n",
    "\n",
    "data_GERD = pd.read_csv(input_folder + '/' + 'GERD.csv')\n",
    "data_GERD['Subreddit'] = data_GERD.apply(lambda row: 'GERD', axis=1)\n",
    "for subreddit in subreddit_list:\n",
    "    if subreddit == 'GERD':\n",
    "        data_GERD[subreddit] = data_GERD.apply(lambda row: int(1), axis=1)\n",
    "    else:\n",
    "        data_GERD[subreddit] = data_GERD.apply(lambda row: int(0), axis=1)\n",
    "data_GERD.to_csv(output_folder + '/' + 'GERD.csv', sep=',', encoding='utf-8', header=True)\n",
    "\n",
    "data_STD = pd.read_csv(input_folder + '/' + 'STD.csv')\n",
    "data_STD['Subreddit'] = data_STD.apply(lambda row: 'STD', axis=1)\n",
    "for subreddit in subreddit_list:\n",
    "    if subreddit == 'STD':\n",
    "        data_STD[subreddit] = data_STD.apply(lambda row: int(1), axis=1)\n",
    "    else:\n",
    "        data_STD[subreddit] = data_STD.apply(lambda row: int(0), axis=1)\n",
    "data_STD.to_csv(output_folder + '/' + 'STD.csv', sep=',', encoding='utf-8', header=True)"
   ]
  },
  {
   "cell_type": "markdown",
   "metadata": {},
   "source": [
    "# Adjust dataset size to make them more balanced if needed\n",
    "If the sample size of some subreddits is too big, CNN model will result in NaN when evaluating loss during training.\n",
    "We try to balance the sample size to be from 2k to 6k."
   ]
  },
  {
   "cell_type": "code",
   "execution_count": 11,
   "metadata": {},
   "outputs": [
    {
     "name": "stdout",
     "output_type": "stream",
     "text": [
      "cancer\n",
      "(6085, 16)\n",
      "COVID19positive\n",
      "(4921, 16)\n",
      "diabetes\n",
      "(6695, 16)\n",
      "eczema\n",
      "(6983, 16)\n",
      "eyetriage\n",
      "(2082, 16)\n",
      "GERD\n",
      "(10657, 16)\n",
      "STD\n",
      "(6348, 16)\n"
     ]
    }
   ],
   "source": [
    "\n",
    "data_cancer = data_cancer.truncate(before=5000)\n",
    "print('cancer')\n",
    "print(data_cancer.shape)\n",
    "\n",
    "print('COVID19positive')\n",
    "print(data_COVID19positive.shape)\n",
    "\n",
    "data_diabetes = data_diabetes.truncate(before=4000)\n",
    "print('diabetes')\n",
    "print(data_diabetes.shape)\n",
    "\n",
    "data_eczema = data_eczema.truncate(before=1000)\n",
    "print('eczema')\n",
    "print(data_eczema.shape)\n",
    "\n",
    "print('eyetriage')\n",
    "print(data_eyetriage.shape)\n",
    "\n",
    "print('GERD')\n",
    "print(data_GERD.shape)\n",
    "\n",
    "data_STD = data_STD.truncate(before=7000)\n",
    "print('STD')\n",
    "print(data_STD.shape)"
   ]
  },
  {
   "cell_type": "markdown",
   "metadata": {},
   "source": [
    "# Combine the datasets"
   ]
  },
  {
   "cell_type": "code",
   "execution_count": 12,
   "metadata": {},
   "outputs": [
    {
     "name": "stdout",
     "output_type": "stream",
     "text": [
      "(43771, 16)\n"
     ]
    }
   ],
   "source": [
    "combined_output_csv = output_folder + '/' + 'Combined.csv'\n",
    "combined_output_excel = output_folder + '/' + 'Combined.xlsx'\n",
    "\n",
    "data_combined = pd.concat([data_cancer, data_COVID19positive, data_diabetes, \n",
    "                           data_eczema, data_eyetriage, data_GERD, data_STD])\n",
    "\n",
    "print(data_combined.shape)\n",
    "\n",
    "data_combined.to_csv(combined_output_csv, sep=',', encoding='utf-8', header=True)"
   ]
  },
  {
   "cell_type": "code",
   "execution_count": null,
   "metadata": {},
   "outputs": [],
   "source": []
  }
 ],
 "metadata": {
  "kernelspec": {
   "display_name": "Python 3",
   "language": "python",
   "name": "python3"
  },
  "language_info": {
   "codemirror_mode": {
    "name": "ipython",
    "version": 3
   },
   "file_extension": ".py",
   "mimetype": "text/x-python",
   "name": "python",
   "nbconvert_exporter": "python",
   "pygments_lexer": "ipython3",
   "version": "3.6.8"
  }
 },
 "nbformat": 4,
 "nbformat_minor": 2
}
