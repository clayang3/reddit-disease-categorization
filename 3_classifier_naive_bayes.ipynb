{
 "cells": [
  {
   "cell_type": "markdown",
   "metadata": {},
   "source": [
    "# 3_classifier_naive_bayes.ipynb\n",
    "Builds the disease classification model using Reddit data based on Naive Bayes.\n",
    "\n",
    "The implementation is based on:\n",
    "- https://scikit-learn.org/stable/tutorial/text_analytics/working_with_text_data.html\n",
    "- https://github.com/scikit-learn/scikit-learn/tree/master/doc/tutorial/text_analytics"
   ]
  },
  {
   "cell_type": "markdown",
   "metadata": {},
   "source": [
    "# Load the dataset"
   ]
  },
  {
   "cell_type": "code",
   "execution_count": 1,
   "metadata": {},
   "outputs": [
    {
     "name": "stdout",
     "output_type": "stream",
     "text": [
      "(43771, 17)\n",
      "0        0\n",
      "1        0\n",
      "2        0\n",
      "3        0\n",
      "4        0\n",
      "        ..\n",
      "43766    6\n",
      "43767    6\n",
      "43768    6\n",
      "43769    6\n",
      "43770    6\n",
      "Name: Target, Length: 43771, dtype: int64\n"
     ]
    }
   ],
   "source": [
    "import pandas as pd\n",
    "import numpy as np\n",
    "import os\n",
    "from pprint import pprint\n",
    "\n",
    "def get_target_int(subreddit):\n",
    "    if subreddit == 'cancer':\n",
    "        return int(0)\n",
    "    if subreddit == 'COVID19positive':\n",
    "        return int(1)\n",
    "    if subreddit == 'diabetes':\n",
    "        return int(2)\n",
    "    if subreddit == 'eczema':\n",
    "        return int(3)\n",
    "    if subreddit == 'eyetriage':\n",
    "        return int(4)\n",
    "    if subreddit == 'GERD':\n",
    "        return int(5)\n",
    "    if subreddit == 'STD':\n",
    "        return int(6)\n",
    "\n",
    "    return int(7)\n",
    "\n",
    "input_data_folder = 'data_combination'\n",
    "combined_data_file = input_data_folder + '/' + 'Combined.csv'\n",
    "\n",
    "df = pd.read_csv(combined_data_file)\n",
    "print(df.shape)\n",
    "\n",
    "X = (df['Title'] + ' ' + df['Body']).values\n",
    "X= X.astype(str)\n",
    "\n",
    "df['Target'] = df.apply(lambda row: get_target_int(row['Subreddit']), axis=1)\n",
    "pprint(df['Target'])"
   ]
  },
  {
   "cell_type": "markdown",
   "metadata": {},
   "source": [
    "# Extract features from text files\n",
    "- Use backs of words representation\n",
    "- Tokenize text\n",
    "- Convert to frequencies with tf (Term Frequencies) and tf-idf (Term Frequency times Inverse Document Frequenccy\""
   ]
  },
  {
   "cell_type": "code",
   "execution_count": 2,
   "metadata": {},
   "outputs": [
    {
     "data": {
      "text/plain": [
       "(43771, 55411)"
      ]
     },
     "execution_count": 2,
     "metadata": {},
     "output_type": "execute_result"
    }
   ],
   "source": [
    "from sklearn.feature_extraction.text import CountVectorizer\n",
    "count_vect = CountVectorizer()\n",
    "X_train_counts = count_vect.fit_transform(X)\n",
    "X_train_counts.shape"
   ]
  },
  {
   "cell_type": "code",
   "execution_count": 3,
   "metadata": {},
   "outputs": [
    {
     "data": {
      "text/plain": [
       "50325"
      ]
     },
     "execution_count": 3,
     "metadata": {},
     "output_type": "execute_result"
    }
   ],
   "source": [
    "count_vect.vocabulary_.get(u'tooth')"
   ]
  },
  {
   "cell_type": "code",
   "execution_count": 4,
   "metadata": {},
   "outputs": [
    {
     "data": {
      "text/plain": [
       "(43771, 55411)"
      ]
     },
     "execution_count": 4,
     "metadata": {},
     "output_type": "execute_result"
    }
   ],
   "source": [
    "from sklearn.feature_extraction.text import TfidfTransformer\n",
    "tf_transformer = TfidfTransformer(use_idf=False).fit(X_train_counts)\n",
    "X_train_tf = tf_transformer.transform(X_train_counts)\n",
    "X_train_tf.shape"
   ]
  },
  {
   "cell_type": "code",
   "execution_count": 5,
   "metadata": {},
   "outputs": [
    {
     "data": {
      "text/plain": [
       "(43771, 55411)"
      ]
     },
     "execution_count": 5,
     "metadata": {},
     "output_type": "execute_result"
    }
   ],
   "source": [
    "tfidf_transformer = TfidfTransformer()\n",
    "X_train_tfidf = tfidf_transformer.fit_transform(X_train_counts)\n",
    "X_train_tfidf.shape"
   ]
  },
  {
   "cell_type": "markdown",
   "metadata": {},
   "source": [
    "# Train the Naive Bayes classifier"
   ]
  },
  {
   "cell_type": "code",
   "execution_count": 6,
   "metadata": {},
   "outputs": [],
   "source": [
    "from sklearn.naive_bayes import MultinomialNB\n",
    "clf = MultinomialNB().fit(X_train_tfidf, df['Target'])"
   ]
  },
  {
   "cell_type": "code",
   "execution_count": 7,
   "metadata": {},
   "outputs": [
    {
     "name": "stdout",
     "output_type": "stream",
     "text": [
      "I think COVID-19 is likely. Short of breath->1\n",
      "I need cancer treatment->0\n"
     ]
    }
   ],
   "source": [
    "docs_new = ['I think COVID-19 is likely. Short of breath', 'I need cancer treatment']\n",
    "X_new_counts = count_vect.transform(docs_new)\n",
    "X_new_tfidf = tfidf_transformer.transform(X_new_counts)\n",
    "\n",
    "predicted = clf.predict(X_new_tfidf)\n",
    "\n",
    "for doc, category in zip(docs_new, predicted):\n",
    "    print(doc + '->' + str(category))"
   ]
  },
  {
   "cell_type": "code",
   "execution_count": 8,
   "metadata": {},
   "outputs": [],
   "source": [
    "from sklearn.pipeline import Pipeline\n",
    "text_clf = Pipeline([\n",
    "    ('vect', CountVectorizer()),\n",
    "    ('tfidf', TfidfTransformer()),\n",
    "    ('clf', MultinomialNB()),\n",
    "])"
   ]
  },
  {
   "cell_type": "code",
   "execution_count": 9,
   "metadata": {},
   "outputs": [
    {
     "data": {
      "text/plain": [
       "Pipeline(steps=[('vect', CountVectorizer()), ('tfidf', TfidfTransformer()),\n",
       "                ('clf', MultinomialNB())])"
      ]
     },
     "execution_count": 9,
     "metadata": {},
     "output_type": "execute_result"
    }
   ],
   "source": [
    "text_clf.fit(X, df['Target'])"
   ]
  },
  {
   "cell_type": "code",
   "execution_count": 10,
   "metadata": {},
   "outputs": [
    {
     "data": {
      "text/plain": [
       "0.8837586529894222"
      ]
     },
     "execution_count": 10,
     "metadata": {},
     "output_type": "execute_result"
    }
   ],
   "source": [
    "predicted = text_clf.predict(X)\n",
    "np.mean(predicted == df['Target'])"
   ]
  },
  {
   "cell_type": "code",
   "execution_count": 11,
   "metadata": {},
   "outputs": [
    {
     "name": "stdout",
     "output_type": "stream",
     "text": [
      "                 precision    recall  f1-score   support\n",
      "\n",
      "         cancer     0.9181    0.8825    0.8999      6085\n",
      "COVID19positive     0.9902    0.7003    0.8204      4921\n",
      "       diabetes     0.9705    0.8880    0.9274      6695\n",
      "         eczema     0.9242    0.9353    0.9297      6983\n",
      "      eyetriage     0.9940    0.3170    0.4807      2082\n",
      "           GERD     0.7422    0.9963    0.8507     10657\n",
      "            STD     0.9737    0.9630    0.9683      6348\n",
      "\n",
      "       accuracy                         0.8838     43771\n",
      "      macro avg     0.9304    0.8118    0.8396     43771\n",
      "   weighted avg     0.9040    0.8838    0.8779     43771\n",
      "\n"
     ]
    }
   ],
   "source": [
    "target_names = ['cancer', 'COVID19positive', 'diabetes', 'eczema', 'eyetriage', 'GERD', 'STD']\n",
    "from sklearn import metrics\n",
    "print(metrics.classification_report(df['Target'], predicted,\n",
    "    target_names=target_names, digits=4))"
   ]
  },
  {
   "cell_type": "code",
   "execution_count": 12,
   "metadata": {},
   "outputs": [
    {
     "data": {
      "text/plain": [
       "array([[ 5370,     6,    32,    55,     1,   578,    43],\n",
       "       [  193,  3446,    15,    44,     1,  1182,    40],\n",
       "       [   99,    17,  5945,    56,     2,   561,    15],\n",
       "       [   43,     3,    23,  6531,     0,   368,    15],\n",
       "       [  111,     1,    87,   321,   660,   856,    46],\n",
       "       [   10,     2,    11,    10,     0, 10618,     6],\n",
       "       [   23,     5,    13,    50,     0,   144,  6113]])"
      ]
     },
     "execution_count": 12,
     "metadata": {},
     "output_type": "execute_result"
    }
   ],
   "source": [
    "metrics.confusion_matrix(df['Target'], predicted)"
   ]
  },
  {
   "cell_type": "code",
   "execution_count": null,
   "metadata": {},
   "outputs": [],
   "source": []
  }
 ],
 "metadata": {
  "kernelspec": {
   "display_name": "Python 3",
   "language": "python",
   "name": "python3"
  },
  "language_info": {
   "codemirror_mode": {
    "name": "ipython",
    "version": 3
   },
   "file_extension": ".py",
   "mimetype": "text/x-python",
   "name": "python",
   "nbconvert_exporter": "python",
   "pygments_lexer": "ipython3",
   "version": "3.6.8"
  }
 },
 "nbformat": 4,
 "nbformat_minor": 4
}
